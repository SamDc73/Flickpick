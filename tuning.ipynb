{
 "cells": [
  {
   "cell_type": "code",
   "execution_count": 1,
   "metadata": {
    "colab": {
     "base_uri": "https://localhost:8080/"
    },
    "id": "75BUUUalfiKu",
    "outputId": "f1ea4d43-be45-45a1-eb24-0061bbd38fb7",
    "tags": []
   },
   "outputs": [],
   "source": [
    "# Importing initial packages\n",
    "import pandas as pd\n",
    "import numpy as np\n",
    "import matplotlib.pyplot as plt\n",
    "import dask.dataframe as dd\n",
    "# from scipy.sparse import csr_matrix\n",
    "import tqdm as tqdm\n",
    "from sklearn.model_selection import ParameterGrid, KFold\n",
    "import seaborn as sns\n",
    "\n",
    "# PyTorch Imports\n",
    "import torch\n",
    "import torch.nn as nn\n",
    "import torch.optim as optim\n",
    "import torch.nn.functional as F\n",
    "from torch.cuda.amp import autocast, GradScaler\n",
    "from torch.optim.lr_scheduler import StepLR\n",
    "from torch.utils.data import DataLoader, Dataset, random_split"
   ]
  },
  {
   "cell_type": "code",
   "execution_count": 15,
   "metadata": {
    "tags": []
   },
   "outputs": [],
   "source": [
    "# Setting Hyperparameters\n",
    "\n",
    "batch_size = 256\n",
    "epochs = 5\n",
    "lr = 0.005\n",
    "accumulation_steps = 4\n",
    "weight_decay = 1e-5\n",
    "step_size = 10\n",
    "gamma = 0.1\n",
    "patience = 5"
   ]
  },
  {
   "cell_type": "code",
   "execution_count": 2,
   "metadata": {
    "tags": []
   },
   "outputs": [
    {
     "name": "stdout",
     "output_type": "stream",
     "text": [
      "cuda\n"
     ]
    }
   ],
   "source": [
    "# Setting the device to GPU for parallelization\n",
    "device = 'mps' if torch.backends.mps.is_available() else 'cuda' if torch.cuda.is_available() else 'cpu'\n",
    "print(device)"
   ]
  },
  {
   "cell_type": "markdown",
   "metadata": {
    "id": "UclxqEQlfiKy"
   },
   "source": [
    "## Data Loading, Cleaning, and Preprocessing"
   ]
  },
  {
   "cell_type": "markdown",
   "metadata": {
    "id": "wtJcTHXffiKz"
   },
   "source": [
    "### Data Loading"
   ]
  },
  {
   "cell_type": "code",
   "execution_count": 3,
   "metadata": {
    "id": "UWZoeHglfiKz",
    "tags": []
   },
   "outputs": [],
   "source": [
    "# In my project folder I added a data folder with both files (found in repo README) but did not push (gitignore) due to size\n",
    "\n",
    "movies = pandas.read_csv('ml-25m/movies.csv')\n",
    "ratings = pandas.read_csv('ml-25m/ratings_filled.csv')"
   ]
  },
  {
   "cell_type": "markdown",
   "metadata": {
    "id": "hmdDDjElfiK0"
   },
   "source": [
    "### Data Anlayst"
   ]
  },
  {
   "cell_type": "code",
   "execution_count": 4,
   "metadata": {
    "colab": {
     "base_uri": "https://localhost:8080/"
    },
    "id": "dhJ2CH_RfiK0",
    "outputId": "d856adf0-f50f-49fe-8079-171e07b94aa7",
    "tags": []
   },
   "outputs": [
    {
     "name": "stdout",
     "output_type": "stream",
     "text": [
      "The shape of movies is: (<dask_expr.expr.Scalar: expr=ReadCSV(f3f7dc5).size() // 3, dtype=int64>, 3)\n",
      "The shape of rating is: (<dask_expr.expr.Scalar: expr=ReadCSV(f3c592b).size() // 4, dtype=int64>, 4)\n",
      "The columns of movies is: ['movieId', 'title', 'genres']\n",
      "The columns of rating is: ['userId', 'movieId', 'rating', 'timestamp']\n",
      "\n",
      "* Notice that both df's have a movieId column, which will be useful for merging\n"
     ]
    }
   ],
   "source": [
    "print(f\"\"\"The shape of movies is: {movies.shape}\n",
    "The shape of rating is: {ratings.shape}\"\"\")\n",
    "\n",
    "print(f\"\"\"The columns of movies is: {movies.columns.to_list()}\n",
    "The columns of rating is: {ratings.columns.to_list()}\n",
    "\n",
    "* Notice that both df's have a movieId column, which will be useful for merging\"\"\")"
   ]
  },
  {
   "cell_type": "code",
   "execution_count": 5,
   "metadata": {
    "colab": {
     "base_uri": "https://localhost:8080/",
     "height": 206
    },
    "id": "R4rJrhOsfiK1",
    "outputId": "b3440d83-71fc-48bb-9d11-18ca7c1a9295",
    "tags": []
   },
   "outputs": [
    {
     "data": {
      "text/html": [
       "<div>\n",
       "<style scoped>\n",
       "    .dataframe tbody tr th:only-of-type {\n",
       "        vertical-align: middle;\n",
       "    }\n",
       "\n",
       "    .dataframe tbody tr th {\n",
       "        vertical-align: top;\n",
       "    }\n",
       "\n",
       "    .dataframe thead th {\n",
       "        text-align: right;\n",
       "    }\n",
       "</style>\n",
       "<table border=\"1\" class=\"dataframe\">\n",
       "  <thead>\n",
       "    <tr style=\"text-align: right;\">\n",
       "      <th></th>\n",
       "      <th>movieId</th>\n",
       "      <th>title</th>\n",
       "      <th>genres</th>\n",
       "    </tr>\n",
       "  </thead>\n",
       "  <tbody>\n",
       "    <tr>\n",
       "      <th>0</th>\n",
       "      <td>1</td>\n",
       "      <td>Toy Story (1995)</td>\n",
       "      <td>Adventure|Animation|Children|Comedy|Fantasy</td>\n",
       "    </tr>\n",
       "    <tr>\n",
       "      <th>1</th>\n",
       "      <td>2</td>\n",
       "      <td>Jumanji (1995)</td>\n",
       "      <td>Adventure|Children|Fantasy</td>\n",
       "    </tr>\n",
       "    <tr>\n",
       "      <th>2</th>\n",
       "      <td>3</td>\n",
       "      <td>Grumpier Old Men (1995)</td>\n",
       "      <td>Comedy|Romance</td>\n",
       "    </tr>\n",
       "    <tr>\n",
       "      <th>3</th>\n",
       "      <td>4</td>\n",
       "      <td>Waiting to Exhale (1995)</td>\n",
       "      <td>Comedy|Drama|Romance</td>\n",
       "    </tr>\n",
       "    <tr>\n",
       "      <th>4</th>\n",
       "      <td>5</td>\n",
       "      <td>Father of the Bride Part II (1995)</td>\n",
       "      <td>Comedy</td>\n",
       "    </tr>\n",
       "  </tbody>\n",
       "</table>\n",
       "</div>"
      ],
      "text/plain": [
       "   movieId                               title  \\\n",
       "0        1                    Toy Story (1995)   \n",
       "1        2                      Jumanji (1995)   \n",
       "2        3             Grumpier Old Men (1995)   \n",
       "3        4            Waiting to Exhale (1995)   \n",
       "4        5  Father of the Bride Part II (1995)   \n",
       "\n",
       "                                        genres  \n",
       "0  Adventure|Animation|Children|Comedy|Fantasy  \n",
       "1                   Adventure|Children|Fantasy  \n",
       "2                               Comedy|Romance  \n",
       "3                         Comedy|Drama|Romance  \n",
       "4                                       Comedy  "
      ]
     },
     "execution_count": 5,
     "metadata": {},
     "output_type": "execute_result"
    }
   ],
   "source": [
    "# Creating encoders and decoders for our movie ids\n",
    "movie_ids = list(movies.movieId)\n",
    "moviesid_to_title = dict(zip(movies.movieId,movies.title))    # Decoder\n",
    "movietitle_to_id = {j:i for i,j in moviesid_to_title.items()} # Encoder\n",
    "\n",
    "movies.head()"
   ]
  },
  {
   "cell_type": "code",
   "execution_count": 6,
   "metadata": {
    "colab": {
     "base_uri": "https://localhost:8080/",
     "height": 206
    },
    "id": "Ge_Pb07ufiK2",
    "outputId": "03be3e68-d690-41bc-f467-cd571ca2b2ac",
    "tags": []
   },
   "outputs": [
    {
     "data": {
      "text/html": [
       "<div>\n",
       "<style scoped>\n",
       "    .dataframe tbody tr th:only-of-type {\n",
       "        vertical-align: middle;\n",
       "    }\n",
       "\n",
       "    .dataframe tbody tr th {\n",
       "        vertical-align: top;\n",
       "    }\n",
       "\n",
       "    .dataframe thead th {\n",
       "        text-align: right;\n",
       "    }\n",
       "</style>\n",
       "<table border=\"1\" class=\"dataframe\">\n",
       "  <thead>\n",
       "    <tr style=\"text-align: right;\">\n",
       "      <th></th>\n",
       "      <th>userId</th>\n",
       "      <th>movieId</th>\n",
       "      <th>rating</th>\n",
       "      <th>timestamp</th>\n",
       "    </tr>\n",
       "  </thead>\n",
       "  <tbody>\n",
       "    <tr>\n",
       "      <th>0</th>\n",
       "      <td>1</td>\n",
       "      <td>296</td>\n",
       "      <td>5.0</td>\n",
       "      <td>1147880044</td>\n",
       "    </tr>\n",
       "    <tr>\n",
       "      <th>1</th>\n",
       "      <td>1</td>\n",
       "      <td>306</td>\n",
       "      <td>3.5</td>\n",
       "      <td>1147868817</td>\n",
       "    </tr>\n",
       "    <tr>\n",
       "      <th>2</th>\n",
       "      <td>1</td>\n",
       "      <td>307</td>\n",
       "      <td>5.0</td>\n",
       "      <td>1147868828</td>\n",
       "    </tr>\n",
       "    <tr>\n",
       "      <th>3</th>\n",
       "      <td>1</td>\n",
       "      <td>665</td>\n",
       "      <td>5.0</td>\n",
       "      <td>1147878820</td>\n",
       "    </tr>\n",
       "    <tr>\n",
       "      <th>4</th>\n",
       "      <td>1</td>\n",
       "      <td>899</td>\n",
       "      <td>3.5</td>\n",
       "      <td>1147868510</td>\n",
       "    </tr>\n",
       "  </tbody>\n",
       "</table>\n",
       "</div>"
      ],
      "text/plain": [
       "   userId  movieId  rating   timestamp\n",
       "0       1      296     5.0  1147880044\n",
       "1       1      306     3.5  1147868817\n",
       "2       1      307     5.0  1147868828\n",
       "3       1      665     5.0  1147878820\n",
       "4       1      899     3.5  1147868510"
      ]
     },
     "execution_count": 6,
     "metadata": {},
     "output_type": "execute_result"
    }
   ],
   "source": [
    "ratings.head()"
   ]
  },
  {
   "cell_type": "markdown",
   "metadata": {
    "id": "2JcPMLvDfiK3"
   },
   "source": [
    "We'll inspect the distribution of the dataset, to get a better understanding of the spread of reviews"
   ]
  },
  {
   "cell_type": "code",
   "execution_count": 7,
   "metadata": {
    "colab": {
     "base_uri": "https://localhost:8080/",
     "height": 449
    },
    "id": "7UC6R1nJfiK4",
    "outputId": "bbf1024e-887c-4507-9e53-2803c207b9dd",
    "tags": []
   },
   "outputs": [
    {
     "data": {
      "image/png": "[encoded data removed]",
      "text/plain": [
       "<Figure size 640x480 with 1 Axes>"
      ]
     },
     "metadata": {},
     "output_type": "display_data"
    }
   ],
   "source": [
    "# Create the histogram\n",
    "plt.hist(ratings['rating'], bins=10, edgecolor='black')\n",
    "\n",
    "# Adding title and labels\n",
    "plt.title('Distribution of Ratings')\n",
    "plt.xlabel('Rating')\n",
    "plt.ylabel('Frequency')\n",
    "\n",
    "# Display the plot\n",
    "plt.show()"
   ]
  },
  {
   "cell_type": "markdown",
   "metadata": {
    "id": "r7ZEscd9fiK5"
   },
   "source": [
    "### Data Preprocessing"
   ]
  },
  {
   "cell_type": "markdown",
   "metadata": {},
   "source": [
    "Loading Data with Dask and Creating Mappings"
   ]
  },
  {
   "cell_type": "code",
   "execution_count": 21,
   "metadata": {
    "colab": {
     "base_uri": "https://localhost:8080/",
     "height": 287
    },
    "id": "g9WB18WvfiK5",
    "outputId": "e9948bff-9a56-4187-a467-26e5e4138861",
    "tags": []
   },
   "outputs": [],
   "source": [
    "\n",
    "# Extract unique user and movie IDs to create mappings\n",
    "unique_user_ids = ratings['userId'].unique().compute()\n",
    "unique_movie_ids = ratings['movieId'].unique().compute()\n",
    "\n",
    "# Create index mappings\n",
    "user_id_mapping = {user_id: idx for idx, user_id in enumerate(unique_user_ids)}\n",
    "movie_id_mapping = {movie_id: idx for idx, movie_id in enumerate(unique_movie_ids)}\n",
    "\n",
    "# Initialize the user-rating matrix with zeros\n",
    "num_users = len(unique_user_ids)\n",
    "num_movies = len(unique_movie_ids)\n",
    "user_rating_matrix = np.zeros((num_users, num_movies), dtype=np.float32)\n",
    "\n",
    "# Function to process each chunk and update the user-rating matrix\n",
    "def process_chunk(chunk, user_id_mapping, movie_id_mapping, user_rating_matrix):\n",
    "    for row in chunk.itertuples(index=False):\n",
    "        user_idx = user_id_mapping[row.userId]\n",
    "        movie_idx = movie_id_mapping[row.movieId]\n",
    "        user_rating_matrix[user_idx, movie_idx] = row.rating\n",
    "\n",
    "# Read and process data in chunks\n",
    "chunk_size = 100000  # You can adjust this based on your system's memory\n",
    "chunks = pd.read_csv('ml-25m/ratings_filled.csv', chunksize=chunk_size)\n",
    "\n",
    "for chunk in chunks:\n",
    "    process_chunk(chunk, user_id_mapping, movie_id_mapping, user_rating_matrix)"
   ]
  },
  {
   "cell_type": "code",
   "execution_count": 22,
   "metadata": {
    "colab": {
     "base_uri": "https://localhost:8080/"
    },
    "id": "g7i-_ypofiK5",
    "outputId": "204edc6a-7a8f-49e6-c852-fa9fbd2640d2",
    "tags": []
   },
   "outputs": [
    {
     "name": "stdout",
     "output_type": "stream",
     "text": [
      "Shape of the numpy matrix: (28468, 35577); represting 28468 users with 35577 movies.\n"
     ]
    }
   ],
   "source": [
    "# Convert this from a pandas df to numpy array\n",
    "user_rating_matrix_np = user_rating_matrix \n",
    "print(f\"Shape of the numpy matrix: {user_rating_matrix_np.shape}; represting {user_rating_matrix_np.shape[0]} users with {user_rating_matrix_np.shape[1]} movies.\")"
   ]
  },
  {
   "cell_type": "code",
   "execution_count": 23,
   "metadata": {
    "id": "8ybj5rEGfiK5",
    "tags": []
   },
   "outputs": [],
   "source": [
    "user_rating_matrix_tensor = torch.tensor(user_rating_matrix_np, dtype=torch.float32)\n",
    "\n",
    "# Get the number of samples\n",
    "num_samples = user_rating_matrix_tensor.shape[0]\n",
    "\n",
    "# Define the split ratio\n",
    "test_size = 0.2\n",
    "split_index = int(num_samples * (1 - test_size))\n",
    "\n",
    "# Shuffle the data\n",
    "indices = torch.randperm(num_samples)\n",
    "\n",
    "# Split the dataset\n",
    "train_indices = indices[:split_index]\n",
    "test_indices = indices[split_index:]\n",
    "\n",
    "train_data = user_rating_matrix_tensor[train_indices]\n",
    "test_data = user_rating_matrix_tensor[test_indices]"
   ]
  },
  {
   "cell_type": "code",
   "execution_count": 24,
   "metadata": {
    "id": "yC1SvVLdfiK6",
    "tags": []
   },
   "outputs": [],
   "source": [
    "# Convert to PyTorch tensors\n",
    "train_data = torch.FloatTensor(train_data)\n",
    "test_data = torch.FloatTensor(test_data)"
   ]
  },
  {
   "cell_type": "markdown",
   "metadata": {
    "id": "Ykj-jxOMfiK6"
   },
   "source": [
    "### Creating DataLoader"
   ]
  },
  {
   "cell_type": "code",
   "execution_count": 25,
   "metadata": {
    "colab": {
     "base_uri": "https://localhost:8080/"
    },
    "id": "PWhuP5ZJfiK6",
    "outputId": "5839d48b-09c0-4cb6-b897-173da9d1c71e",
    "tags": []
   },
   "outputs": [
    {
     "name": "stdout",
     "output_type": "stream",
     "text": [
      "Batch size: 256\n",
      "Number of samples in train_dataset: 3484292\n",
      "Number of samples in test_dataset: 840198\n"
     ]
    }
   ],
   "source": [
    "class RatingsDataset(Dataset):\n",
    "    def __init__(self, data):\n",
    "        self.data = data.nonzero(as_tuple=True) # Get the indices of non-zero elements\n",
    "        self.ratings = data[self.data]          # Using non-zero indiced to extract those ratings\n",
    "\n",
    "    def __len__ (self):\n",
    "        return len(self.data[0])\n",
    "\n",
    "    def __getitem__ (self, idx):\n",
    "        user = self.data[0][idx]\n",
    "        item = self.data[1][idx]\n",
    "        rating = self.ratings[idx]\n",
    "\n",
    "        return user, item, rating\n",
    "\n",
    "# Create training and testing datasets\n",
    "train_dataset = RatingsDataset(train_data)\n",
    "test_dataset = RatingsDataset(test_data)\n",
    "\n",
    "# Create data loaders\n",
    "train_loader = DataLoader(train_dataset, batch_size=batch_size, shuffle=True, num_workers=4, pin_memory=True)\n",
    "test_loader = DataLoader(test_dataset, batch_size=batch_size, shuffle=False, num_workers=4, pin_memory=True)\n",
    "\n",
    "# Print dataset information\n",
    "print(f\"Batch size: {batch_size}\")\n",
    "print(f\"Number of samples in train_dataset: {len(train_dataset)}\")\n",
    "print(f\"Number of samples in test_dataset: {len(test_dataset)}\")"
   ]
  },
  {
   "cell_type": "markdown",
   "metadata": {
    "id": "SOvuzPZHfiK7"
   },
   "source": [
    "## Model Development"
   ]
  },
  {
   "cell_type": "markdown",
   "metadata": {
    "id": "yrunYKK5fiK7"
   },
   "source": [
    "### Defining Recommender model\n"
   ]
  },
  {
   "cell_type": "code",
   "execution_count": 26,
   "metadata": {
    "id": "bjgpzR5FfiK7",
    "tags": []
   },
   "outputs": [],
   "source": [
    "class MFRecommender(nn.Module):\n",
    "    def __init__(self, num_users, num_items, n_factors=50, dropout_rate=0.2):\n",
    "        super(MFRecommender, self).__init__()\n",
    "        self.user_embedding = nn.Embedding(num_users, n_factors)\n",
    "        self.item_embedding = nn.Embedding(num_items, n_factors)\n",
    "        \n",
    "        self.fc1 = nn.Linear(n_factors, 128)\n",
    "        self.fc2 = nn.Linear(128, 64)\n",
    "        self.fc3 = nn.Linear(64, 1)\n",
    "        \n",
    "        self.dropout = nn.Dropout(dropout_rate)  # Dropout to prevent overfitting\n",
    "\n",
    "        # Embedding Initialization\n",
    "        nn.init.normal_(self.user_embedding.weight, std=0.01)\n",
    "        nn.init.normal_(self.item_embedding.weight, std=0.01)\n",
    "\n",
    "    def forward(self, user, item):\n",
    "        user_emb = self.user_embedding(user)\n",
    "        item_emb = self.item_embedding(item)\n",
    "        x = user_emb * item_emb\n",
    "        x = torch.relu(self.fc1(x))\n",
    "        x = self.dropout(x)  # Apply dropout\n",
    "        x = torch.relu(self.fc2(x))\n",
    "        x = self.dropout(x)  # Apply dropout\n",
    "        return self.fc3(x)\n"
   ]
  },
  {
   "cell_type": "markdown",
   "metadata": {},
   "source": [
    "### Initializing the Model\n"
   ]
  },
  {
   "cell_type": "code",
   "execution_count": 30,
   "metadata": {
    "tags": []
   },
   "outputs": [],
   "source": [
    "num_users, num_items = user_rating_matrix_np.shape\n",
    "\n",
    "\n",
    "model = MFRecommender(num_users, num_items).to(device)\n",
    "\n",
    "# Adjust the model initialization\n",
    "optimizer = optim.Adam(model.parameters(), lr=lr, weight_decay=weight_decay)  # Add weight decay for regularization\n",
    "scheduler = StepLR(optimizer, step_size, gamma)\n",
    "criterion = nn.MSELoss().to(device)\n",
    "\n",
    "# Use mixed precision training (if supported)\n",
    "scaler = torch.cuda.amp.GradScaler()\n"
   ]
  },
  {
   "cell_type": "markdown",
   "metadata": {
    "id": "wIHCQiB3fiK8"
   },
   "source": [
    "### Defining traing loop function "
   ]
  },
  {
   "cell_type": "code",
   "execution_count": 35,
   "metadata": {
    "colab": {
     "base_uri": "https://localhost:8080/"
    },
    "id": "bqDmlseCfiK8",
    "outputId": "ba439356-28e0-4774-eaaf-e917126e1c76",
    "tags": []
   },
   "outputs": [],
   "source": [
    "def training_loop(model, train_loader, optimizer, criterion, scaler, scheduler, epochs, patience=None):\n",
    "    model.train()\n",
    "    best_loss = float('inf')\n",
    "    patience_counter = 0\n",
    "    loss_dict = {'train_loss': []}\n",
    "\n",
    "    for epoch in range(epochs):\n",
    "        epoch_loss = 0\n",
    "        # Initialize tqdm progress bar\n",
    "        with tqdm(total=len(train_loader), desc=f\"Epoch {epoch+1}/{epochs}\", unit=\"batch\") as pbar:\n",
    "            for user_batch, item_batch, rating_batch in train_loader:\n",
    "                user_batch = user_batch.to(device)\n",
    "                item_batch = item_batch.to(device)\n",
    "                rating_batch = rating_batch.to(device)\n",
    "                \n",
    "                optimizer.zero_grad()\n",
    "                \n",
    "                with torch.cuda.amp.autocast():\n",
    "                    output = model(user_batch, item_batch).squeeze()\n",
    "                    loss = criterion(output, rating_batch)\n",
    "                \n",
    "                scaler.scale(loss).backward()\n",
    "                scaler.step(optimizer)\n",
    "                scaler.update()\n",
    "                \n",
    "                epoch_loss += loss.item()\n",
    "                pbar.set_postfix({\"loss\": loss.item()})\n",
    "                pbar.update(1)\n",
    "        \n",
    "        scheduler.step()\n",
    "        avg_loss = epoch_loss / len(train_loader)\n",
    "        loss_dict['train_loss'].append(avg_loss)\n",
    "        print(f\"Epoch {epoch+1}/{epochs}, Loss: {avg_loss}\")\n",
    "\n",
    "        if patience is not None:\n",
    "            if avg_loss < best_loss:\n",
    "                best_loss = avg_loss\n",
    "                patience_counter = 0\n",
    "            else:\n",
    "                patience_counter += 1\n",
    "                if patience_counter >= patience:\n",
    "                    print(\"Early stopping triggered\")\n",
    "                    break\n",
    "    \n",
    "    return loss_dict"
   ]
  },
  {
   "cell_type": "code",
   "execution_count": 36,
   "metadata": {
    "colab": {
     "base_uri": "https://localhost:8080/",
     "height": 472
    },
    "id": "BRLEZeJ8fiK8",
    "outputId": "bc69a9bf-6649-4e6f-e5c3-2296c705f07f",
    "tags": []
   },
   "outputs": [
    {
     "name": "stdout",
     "output_type": "stream",
     "text": [
      "Epoch 1/5, Loss: 0.854516135466965\n",
      "Epoch 2/5, Loss: 0.7457179148523333\n",
      "Epoch 3/5, Loss: 0.7390900971861294\n",
      "Epoch 4/5, Loss: 0.735290099299109\n",
      "Epoch 5/5, Loss: 0.7317272157416302\n"
     ]
    }
   ],
   "source": [
    "# Run Training Loop (the firs one)\n",
    "loss_dict = training_loop(model, train_loader, optimizer, criterion, scaler, scheduler, epochs, patience=patience)"
   ]
  },
  {
   "cell_type": "markdown",
   "metadata": {
    "id": "0orsWftAfiK9"
   },
   "source": [
    "### Model Evaluation"
   ]
  },
  {
   "cell_type": "code",
   "execution_count": 38,
   "metadata": {
    "colab": {
     "base_uri": "https://localhost:8080/"
    },
    "id": "iuO2Z7EPfiK9",
    "outputId": "3c67869e-eb46-469c-d9f9-fa0c76ba4968",
    "tags": []
   },
   "outputs": [],
   "source": [
    "def evaluate_model(model, test_loader, criterion):\n",
    "    model.eval()  # Set the model to evaluation mode\n",
    "    total_loss = 0\n",
    "    with torch.no_grad():\n",
    "        for user, item, rating in test_loader:\n",
    "            user, item, rating = user.to(device), item.to(device), rating.to(device)\n",
    "            output = model(user, item).squeeze()\n",
    "            loss = criterion(output, rating)\n",
    "            total_loss += loss.item()\n",
    "    \n",
    "    average_loss = total_loss / len(test_loader)\n",
    "    print(f'Test Loss: {average_loss}')\n",
    "    return average_loss\n"
   ]
  },
  {
   "cell_type": "code",
   "execution_count": 39,
   "metadata": {
    "tags": []
   },
   "outputs": [
    {
     "name": "stdout",
     "output_type": "stream",
     "text": [
      "Test Loss: 1.113952849871623\n"
     ]
    }
   ],
   "source": [
    "# initial  the model\n",
    "initial_test_loss = evaluate_model(model, test_loader, criterion)"
   ]
  },
  {
   "cell_type": "markdown",
   "metadata": {
    "id": "qrcEko4afiK9"
   },
   "source": [
    "### Hyperparameter Tuning with Cross-Validation"
   ]
  },
  {
   "cell_type": "code",
   "execution_count": null,
   "metadata": {
    "id": "tWbloeJVfiK-",
    "tags": []
   },
   "outputs": [
    {
     "name": "stdout",
     "output_type": "stream",
     "text": [
      "Testing parameters: {'batch_size': 128, 'dropout_rate': 0.2, 'lr': 0.001, 'n_factors': 20}\n",
      "Epoch 1/5, Loss: 0.8580951008137395\n",
      "Epoch 2/5, Loss: 0.6725316793093743\n",
      "Epoch 3/5, Loss: 0.6443351633085177\n",
      "Epoch 4/5, Loss: 0.6338467179816876\n",
      "Epoch 5/5, Loss: 0.6289469833805837\n",
      "Test Loss: 1.1673996841718726\n",
      "Epoch 1/5, Loss: 0.8490801637580532\n",
      "Epoch 2/5, Loss: 0.6693446288399593\n",
      "Epoch 3/5, Loss: 0.6413824815458297\n",
      "Epoch 4/5, Loss: 0.6306578145032101\n",
      "Epoch 5/5, Loss: 0.6253379033020385\n",
      "Test Loss: 1.1756998192342605\n",
      "Epoch 1/5, Loss: 0.8519822481051648\n",
      "Epoch 2/5, Loss: 0.6687772915292775\n",
      "Epoch 3/5, Loss: 0.6398399519862301\n",
      "Epoch 4/5, Loss: 0.6283799770093165\n",
      "Epoch 5/5, Loss: 0.6228438742954646\n",
      "Test Loss: 1.174799253308923\n",
      "Epoch 1/5, Loss: 0.8456961483633261\n",
      "Epoch 2/5, Loss: 0.671956247822824\n"
     ]
    }
   ],
   "source": [
    "# Define the parameter grid\n",
    "param_grid = {\n",
    "    'n_factors': [20, 50, 100],\n",
    "    'lr': [0.001, 0.005, 0.01],\n",
    "    'batch_size': [128, 256, 512],\n",
    "    'dropout_rate': [0.2, 0.5]\n",
    "}\n",
    "\n",
    "param_list = list(ParameterGrid(param_grid))\n",
    "\n",
    "# Function for cross-validation\n",
    "kf = KFold(n_splits=5)\n",
    "\n",
    "def cross_validate_model(params):\n",
    "    fold_losses = []\n",
    "    for train_index, val_index in kf.split(dataset):\n",
    "        train_data, val_data = dataset[train_index], dataset[val_index]\n",
    "        train_loader = DataLoader(RatingsDataset(train_data), batch_size=params['batch_size'], shuffle=True)\n",
    "        val_loader = DataLoader(RatingsDataset(val_data), batch_size=params['batch_size'], shuffle=False)\n",
    "        \n",
    "        model = MFRecommender(num_users, num_movies, n_factors=params['n_factors'], dropout_rate=params['dropout_rate']).to(device)\n",
    "        optimizer = optim.Adam(model.parameters(), lr=params['lr'], weight_decay=weight_decay)\n",
    "        scheduler = StepLR(optimizer, step_size, gamma)\n",
    "        criterion = nn.MSELoss().to(device)\n",
    "        scaler = torch.cuda.amp.GradScaler()\n",
    "        \n",
    "        # Train the model\n",
    "        training_loop(model, train_loader, optimizer, criterion, scaler, scheduler, epochs, patience)\n",
    "        \n",
    "        # Evaluate the model\n",
    "        val_loss = evaluate_model(model, val_loader, criterion)\n",
    "        fold_losses.append(val_loss)\n",
    "    \n",
    "    return np.mean(fold_losses)\n",
    "\n",
    "\n",
    "# Run the cross-validation\n",
    "results = []\n",
    "best_loss = float('inf')\n",
    "best_params = None\n",
    "for params in param_list:\n",
    "    print(f\"Testing parameters: {params}\")\n",
    "    avg_val_loss = cross_validate_model(params)\n",
    "    results.append({\n",
    "        'n_factors': params['n_factors'],\n",
    "        'lr': params['lr'],\n",
    "        'batch_size': params['batch_size'],\n",
    "        'dropout_rate': params['dropout_rate'],\n",
    "        'val_loss': avg_val_loss\n",
    "    })\n",
    "    print(f\"Average Validation Loss: {avg_val_loss}\")\n",
    "    \n",
    "    if avg_val_loss < best_loss:\n",
    "        best_loss = avg_val_loss\n",
    "        best_params = params\n",
    "\n",
    "print(f\"Best parameters: {best_params}\")\n",
    "print(f\"Best validation loss: {best_loss}\")"
   ]
  },
  {
   "cell_type": "markdown",
   "metadata": {},
   "source": [
    "#### Visualize Hyperparameter Tuning Results"
   ]
  },
  {
   "cell_type": "code",
   "execution_count": null,
   "metadata": {},
   "outputs": [],
   "source": [
    "results_df = pd.DataFrame(results)\n",
    "\n",
    "# Pivot table for heatmap\n",
    "heatmap_data = results_df.pivot_table(index='n_factors', columns='lr', values='val_loss')\n",
    "sns.heatmap(heatmap_data, annot=True, cmap=\"viridis\")\n",
    "plt.title('Validation Loss for Different Hyperparameter Combinations')\n",
    "plt.xlabel('Learning Rate')\n",
    "plt.ylabel('Number of Factors')\n",
    "plt.show()"
   ]
  },
  {
   "cell_type": "markdown",
   "metadata": {},
   "source": [
    "#### Train Final Model with Best Hyperparameters"
   ]
  },
  {
   "cell_type": "code",
   "execution_count": null,
   "metadata": {},
   "outputs": [],
   "source": [
    "# Train the final model with the best hyperparameters\n",
    "final_model = MFRecommender(num_users, num_movies, n_factors=best_params['n_factors'], dropout_rate=best_params['dropout_rate']).to(device)\n",
    "final_optimizer = optim.Adam(final_model.parameters(), lr=best_params['lr'], weight_decay=weight_decay)\n",
    "final_scheduler = StepLR(final_optimizer, step_size, gamma)\n",
    "final_criterion = nn.MSELoss().to(device)\n",
    "final_scaler = torch.cuda.amp.GradScaler()\n",
    "\n",
    "# Use the entire dataset for training\n",
    "final_train_loader = DataLoader(RatingsDataset(dataset), batch_size=best_params['batch_size'], shuffle=True)\n",
    "\n",
    "# Train the final model\n",
    "final_loss_dict = training_loop(final_model, final_train_loader, final_optimizer, final_criterion, final_scaler, final_scheduler, epochs, patience)\n"
   ]
  },
  {
   "cell_type": "code",
   "execution_count": null,
   "metadata": {},
   "outputs": [],
   "source": [
    "# Evaluate Final Model\n",
    "final_test_loss = evaluate_model(final_model, test_loader, final_criterion)\n",
    "print(f'Final Test Loss: {final_test_loss}')\n",
    "\n"
   ]
  },
  {
   "cell_type": "code",
   "execution_count": null,
   "metadata": {},
   "outputs": [],
   "source": [
    "# Visualize the initial and final test loss\n",
    "performance_data = {\n",
    "    'Model': ['Initial Model', 'Final Model'],\n",
    "    'Test Loss': [initial_test_loss, final_test_loss]\n",
    "}\n",
    "\n",
    "performance_df = pd.DataFrame(performance_data)\n",
    "\n",
    "sns.barplot(data=performance_df, x='Model', y='Test Loss', palette='viridis')\n",
    "plt.title('Comparison of Initial and Final Model Test Loss')\n",
    "plt.xlabel('Model')\n",
    "plt.ylabel('Test Loss')\n",
    "plt.show()\n",
    "\n",
    "# Visualize the training loss over epochs for both models\n",
    "initial_loss_df = pd.DataFrame(list(initial_loss_dict.items()), columns=['Epoch', 'Loss'])\n",
    "final_loss_df = pd.DataFrame(list(final_loss_dict.items()), columns=['Epoch', 'Loss'])\n",
    "\n",
    "plt.plot(initial_loss_df['Epoch'], initial_loss_df['Loss'], label='Initial Model', marker='o')\n",
    "plt.plot(final_loss_df['Epoch'], final_loss_df['Loss'], label='Final Model', marker='o')\n",
    "plt.title('Training Loss Over Epochs')\n",
    "plt.xlabel('Epoch')\n",
    "plt.ylabel('Training Loss')\n",
    "plt.legend()\n",
    "plt.show()\n"
   ]
  }
 ],
 "metadata": {
  "colab": {
   "provenance": []
  },
  "kernelspec": {
   "display_name": "Python 3 (ipykernel)",
   "language": "python",
   "name": "python3"
  },
  "language_info": {
   "codemirror_mode": {
    "name": "ipython",
    "version": 3
   },
   "file_extension": ".py",
   "mimetype": "text/x-python",
   "name": "python",
   "nbconvert_exporter": "python",
   "pygments_lexer": "ipython3",
   "version": "3.11.7"
  }
 },
 "nbformat": 4,
 "nbformat_minor": 4
}
