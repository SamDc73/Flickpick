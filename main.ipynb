{
 "cells": [
  {
   "cell_type": "code",
   "execution_count": 1,
   "metadata": {
    "colab": {
     "base_uri": "https://localhost:8080/"
    },
    "id": "75BUUUalfiKu",
    "outputId": "f1ea4d43-be45-45a1-eb24-0061bbd38fb7",
    "tags": []
   },
   "outputs": [],
   "source": [
    "# Importing initial packages\n",
    "import pandas as pd\n",
    "import numpy as np\n",
    "import matplotlib.pyplot as plt\n",
    "from tqdm import tqdm\n",
    "\n",
    "# PyTorch Imports\n",
    "import torch\n",
    "import torch.nn as nn\n",
    "import torch.optim as optim\n",
    "import torch.nn.functional as F\n",
    "from torch.cuda.amp import autocast, GradScaler\n",
    "from torch.optim.lr_scheduler import StepLR\n",
    "from torch.utils.data import DataLoader, Dataset, random_split"
   ]
  },
  {
   "cell_type": "code",
   "execution_count": 2,
   "metadata": {
    "tags": []
   },
   "outputs": [],
   "source": [
    "# Setting Hyperparameters\n",
    "\n",
    "n_factors = 100\n",
    "dropout_rate = 0.2\n",
    "batch_size = 256\n",
    "epochs = 5\n",
    "lr = 0.005\n",
    "accumulation_steps = 4\n",
    "weight_decay = 1e-5\n",
    "step_size = 10\n",
    "gamma = 0.1\n",
    "patience = 5"
   ]
  },
  {
   "cell_type": "code",
   "execution_count": 3,
   "metadata": {
    "tags": []
   },
   "outputs": [
    {
     "name": "stdout",
     "output_type": "stream",
     "text": [
      "cuda\n"
     ]
    }
   ],
   "source": [
    "# Setting the device to GPU for parallelization\n",
    "device = 'mps' if torch.backends.mps.is_available() else 'cuda' if torch.cuda.is_available() else 'cpu'\n",
    "print(device)"
   ]
  },
  {
   "cell_type": "markdown",
   "metadata": {
    "id": "UclxqEQlfiKy"
   },
   "source": [
    "## Data Loading, Cleaning, and Preprocessing"
   ]
  },
  {
   "cell_type": "markdown",
   "metadata": {
    "id": "wtJcTHXffiKz"
   },
   "source": [
    "### Data Loading"
   ]
  },
  {
   "cell_type": "code",
   "execution_count": 4,
   "metadata": {
    "id": "UWZoeHglfiKz",
    "tags": []
   },
   "outputs": [],
   "source": [
    "# In my project folder I added a data folder with both files (found in repo README) but did not push (gitignore) due to size\n",
    "movies = pd.read_csv('ml-25m/movies.csv')\n",
    "ratings = pd.read_csv('ml-25m/ratings_filled.csv')"
   ]
  },
  {
   "cell_type": "markdown",
   "metadata": {
    "id": "r7ZEscd9fiK5"
   },
   "source": [
    "### Data Preprocessing"
   ]
  },
  {
   "cell_type": "code",
   "execution_count": 5,
   "metadata": {
    "colab": {
     "base_uri": "https://localhost:8080/",
     "height": 287
    },
    "id": "g9WB18WvfiK5",
    "outputId": "e9948bff-9a56-4187-a467-26e5e4138861",
    "tags": []
   },
   "outputs": [
    {
     "name": "stdout",
     "output_type": "stream",
     "text": [
      "Shape of the numpy matrix: (28468, 35577); representing 28468 users with 35577 movies.\n"
     ]
    }
   ],
   "source": [
    "# Extract unique IDs and create mappings\n",
    "user_id_mapping = {user_id: idx for idx, user_id in enumerate(ratings['userId'].unique())}\n",
    "movie_id_mapping = {movie_id: idx for idx, movie_id in enumerate(ratings['movieId'].unique())}\n",
    "\n",
    "# Initialize the user-rating matrix\n",
    "num_users = len(user_id_mapping)\n",
    "num_movies = len(movie_id_mapping)\n",
    "user_rating_matrix = np.zeros((num_users, num_movies), dtype=np.float32)\n",
    "\n",
    "# Map the IDs to indices and fill the matrix\n",
    "ratings['user_idx'] = ratings['userId'].map(user_id_mapping)\n",
    "ratings['movie_idx'] = ratings['movieId'].map(movie_id_mapping)\n",
    "user_rating_matrix[ratings['user_idx'], ratings['movie_idx']] = ratings['rating']\n",
    "\n",
    "# Output the matrix shape\n",
    "print(f\"Shape of the numpy matrix: {user_rating_matrix.shape}; representing {user_rating_matrix.shape[0]} users with {user_rating_matrix.shape[1]} movies.\")\n",
    "\n"
   ]
  },
  {
   "cell_type": "code",
   "execution_count": 6,
   "metadata": {
    "id": "8ybj5rEGfiK5",
    "tags": []
   },
   "outputs": [
    {
     "name": "stdout",
     "output_type": "stream",
     "text": [
      "Train data shape: torch.Size([22774, 35577])\n",
      "Test data shape: torch.Size([5694, 35577])\n"
     ]
    }
   ],
   "source": [
    "user_rating_matrix_tensor = torch.tensor(user_rating_matrix, dtype=torch.float32)\n",
    "\n",
    "# Define the split ratio\n",
    "test_size = 0.2\n",
    "num_samples = user_rating_matrix_tensor.shape[0]\n",
    "split_index = int(num_samples * (1 - test_size))\n",
    "\n",
    "# Shuffle the data\n",
    "indices = torch.randperm(num_samples)\n",
    "\n",
    "# Split the dataset\n",
    "train_indices = indices[:split_index]\n",
    "test_indices = indices[split_index:]\n",
    "\n",
    "train_data = user_rating_matrix_tensor[train_indices]\n",
    "test_data = user_rating_matrix_tensor[test_indices]\n",
    "\n",
    "# Convert to PyTorch tensors\n",
    "train_data = torch.FloatTensor(train_data)\n",
    "test_data = torch.FloatTensor(test_data)\n",
    "\n",
    "print(f\"Train data shape: {train_data.shape}\")\n",
    "print(f\"Test data shape: {test_data.shape}\")"
   ]
  },
  {
   "cell_type": "markdown",
   "metadata": {
    "id": "Ykj-jxOMfiK6"
   },
   "source": [
    "### Creating DataLoader"
   ]
  },
  {
   "cell_type": "code",
   "execution_count": 7,
   "metadata": {
    "colab": {
     "base_uri": "https://localhost:8080/"
    },
    "id": "PWhuP5ZJfiK6",
    "outputId": "5839d48b-09c0-4cb6-b897-173da9d1c71e",
    "tags": []
   },
   "outputs": [
    {
     "name": "stdout",
     "output_type": "stream",
     "text": [
      "Number of samples in train_dataset: 3440894\n",
      "Number of samples in test_dataset: 883596\n"
     ]
    }
   ],
   "source": [
    "class RatingsDataset(Dataset):\n",
    "    def __init__(self, data):\n",
    "        self.data = data.nonzero(as_tuple=True) # Get the indices of non-zero elements\n",
    "        self.ratings = data[self.data]          # Using non-zero indiced to extract those ratings\n",
    "\n",
    "    def __len__ (self):\n",
    "        return len(self.data[0])\n",
    "\n",
    "    def __getitem__ (self, idx):\n",
    "        user = self.data[0][idx]\n",
    "        item = self.data[1][idx]\n",
    "        rating = self.ratings[idx]\n",
    "\n",
    "        return user, item, rating\n",
    "\n",
    "# Create training and testing datasets\n",
    "train_dataset = RatingsDataset(train_data)\n",
    "test_dataset = RatingsDataset(test_data)\n",
    "\n",
    "# Create data loaders\n",
    "train_loader = DataLoader(train_dataset, batch_size=batch_size, shuffle=True, num_workers=4, pin_memory=True)\n",
    "test_loader = DataLoader(test_dataset, batch_size=batch_size, shuffle=False, num_workers=4, pin_memory=True)\n",
    "\n",
    "# Print dataset information\n",
    "print(f\"Number of samples in train_dataset: {len(train_dataset)}\")\n",
    "print(f\"Number of samples in test_dataset: {len(test_dataset)}\")"
   ]
  },
  {
   "cell_type": "markdown",
   "metadata": {
    "id": "SOvuzPZHfiK7"
   },
   "source": [
    "## Model Development"
   ]
  },
  {
   "cell_type": "markdown",
   "metadata": {
    "id": "yrunYKK5fiK7"
   },
   "source": [
    "### Defining Recommender model\n"
   ]
  },
  {
   "cell_type": "code",
   "execution_count": 8,
   "metadata": {
    "id": "bjgpzR5FfiK7",
    "tags": []
   },
   "outputs": [],
   "source": [
    "class MFRecommender(nn.Module):\n",
    "    def __init__(self, num_users, num_items, n_factors, dropout_rate):\n",
    "        super(MFRecommender, self).__init__()\n",
    "        \n",
    "        # Embedding layers\n",
    "        self.user_embedding = nn.Embedding(num_users, n_factors)\n",
    "        self.item_embedding = nn.Embedding(num_items, n_factors)\n",
    "        \n",
    "        # Fully connected layers\n",
    "        self.fc1 = nn.Linear(n_factors, 128)\n",
    "        self.fc2 = nn.Linear(128, 64)\n",
    "        self.fc3 = nn.Linear(64, 1)\n",
    "        self.dropout = nn.Dropout(dropout_rate)  # Dropout to prevent overfitting\n",
    "\n",
    "        # Embedding Initialization\n",
    "        nn.init.normal_(self.user_embedding.weight, std=0.01)\n",
    "        nn.init.normal_(self.item_embedding.weight, std=0.01)\n",
    "\n",
    "    def forward(self, user, item):\n",
    "        # Get embeddings\n",
    "        user_emb = self.user_embedding(user)\n",
    "        item_emb = self.item_embedding(item)\n",
    "        \n",
    "        # Element-wise multiplication of user and item embeddings        \n",
    "        x = user_emb * item_emb\n",
    "        \n",
    "        # Pass through fully connected layers with ReLU activation and dropout\n",
    "        x = torch.relu(self.fc1(x))\n",
    "        x = self.dropout(x)   \n",
    "        x = torch.relu(self.fc2(x))\n",
    "        x = self.dropout(x) \n",
    "        \n",
    "        return self.fc3(x)\n"
   ]
  },
  {
   "cell_type": "markdown",
   "metadata": {},
   "source": [
    "### Initializing the Model\n"
   ]
  },
  {
   "cell_type": "code",
   "execution_count": 9,
   "metadata": {
    "tags": []
   },
   "outputs": [],
   "source": [
    "num_users, num_items = user_rating_matrix.shape\n",
    "\n",
    "\n",
    "model = MFRecommender(num_users, num_items, n_factors, dropout_rate).to(device)\n",
    "\n",
    "# Adjust the model initialization\n",
    "optimizer = optim.Adam(model.parameters(), lr=lr, weight_decay=weight_decay)  # Add weight decay for regularization\n",
    "scheduler = StepLR(optimizer, step_size, gamma)\n",
    "criterion = nn.MSELoss().to(device)\n",
    "\n",
    "# Use mixed precision training (if supported)\n",
    "scaler = torch.cuda.amp.GradScaler()\n"
   ]
  },
  {
   "cell_type": "markdown",
   "metadata": {
    "id": "wIHCQiB3fiK8"
   },
   "source": [
    "### Defining traing loop function "
   ]
  },
  {
   "cell_type": "code",
   "execution_count": 10,
   "metadata": {
    "colab": {
     "base_uri": "https://localhost:8080/"
    },
    "id": "bqDmlseCfiK8",
    "outputId": "ba439356-28e0-4774-eaaf-e917126e1c76",
    "tags": []
   },
   "outputs": [],
   "source": [
    "def train_model(model, train_loader, optimizer, criterion, scaler, scheduler, epochs, patience=None):\n",
    "    model.train()\n",
    "    best_loss = float('inf')\n",
    "    patience_counter = 0\n",
    "    train_losses = {'train_loss': []}\n",
    "\n",
    "    for epoch in range(epochs):\n",
    "        epoch_loss = 0\n",
    "        # Initialize tqdm progress bar\n",
    "        with tqdm(total=len(train_loader), desc=f\"Epoch {epoch+1}/{epochs}\", unit=\"batch\") as pbar:\n",
    "            for user_batch, item_batch, rating_batch in train_loader:\n",
    "                user_batch = user_batch.to(device)\n",
    "                item_batch = item_batch.to(device)\n",
    "                rating_batch = rating_batch.to(device)\n",
    "                \n",
    "                optimizer.zero_grad()\n",
    "                \n",
    "                with torch.cuda.amp.autocast():\n",
    "                    output = model(user_batch, item_batch).squeeze()\n",
    "                    loss = criterion(output, rating_batch)\n",
    "                \n",
    "                scaler.scale(loss).backward()\n",
    "                scaler.step(optimizer)\n",
    "                scaler.update()\n",
    "                \n",
    "                epoch_loss += loss.item()\n",
    "                pbar.set_postfix({\"loss\": loss.item()})\n",
    "                pbar.update(1)\n",
    "        \n",
    "        scheduler.step()\n",
    "        avg_loss = epoch_loss / len(train_loader)\n",
    "        train_losses['train_loss'].append(avg_loss)\n",
    "        print(f\"Epoch {epoch+1}/{epochs}, Loss: {avg_loss}\")\n",
    "\n",
    "        # Check for early stopping\n",
    "        if patience is not None:\n",
    "            if avg_loss < best_loss:\n",
    "                best_loss = avg_loss\n",
    "                patience_counter = 0\n",
    "                # Save the best model\n",
    "                torch.save(model.state_dict(), 'best_model_state_dict.pth')\n",
    "                print(\"Best model saved\")\n",
    "            else:\n",
    "                patience_counter += 1\n",
    "                if patience_counter >= patience:\n",
    "                    print(\"Early stopping triggered\")\n",
    "                    break\n",
    "    \n",
    "    return train_losses\n"
   ]
  },
  {
   "cell_type": "code",
   "execution_count": 11,
   "metadata": {
    "colab": {
     "base_uri": "https://localhost:8080/",
     "height": 472
    },
    "id": "BRLEZeJ8fiK8",
    "outputId": "bc69a9bf-6649-4e6f-e5c3-2296c705f07f",
    "tags": []
   },
   "outputs": [
    {
     "name": "stderr",
     "output_type": "stream",
     "text": [
      "Epoch 4/5: 100%|██████████| 13441/13441 [01:25<00:00, 156.93batch/s, loss=0.743]\n"
     ]
    },
    {
     "name": "stdout",
     "output_type": "stream",
     "text": [
      "Epoch 4/5, Loss: 0.7312363415377789\n",
      "Best model saved\n"
     ]
    },
    {
     "name": "stderr",
     "output_type": "stream",
     "text": [
      "Epoch 5/5: 100%|██████████| 13441/13441 [01:35<00:00, 140.32batch/s, loss=0.698]"
     ]
    },
    {
     "name": "stdout",
     "output_type": "stream",
     "text": [
      "Epoch 5/5, Loss: 0.7300655736551426\n",
      "Best model saved\n"
     ]
    },
    {
     "name": "stderr",
     "output_type": "stream",
     "text": [
      "\n"
     ]
    }
   ],
   "source": [
    "\n",
    "# Run Training Loop  \n",
    "train_losses = train_model(model, train_loader, optimizer, criterion, scaler, scheduler, epochs, patience=patience)"
   ]
  },
  {
   "cell_type": "markdown",
   "metadata": {
    "id": "0orsWftAfiK9"
   },
   "source": [
    "### Model Evaluation"
   ]
  },
  {
   "cell_type": "code",
   "execution_count": 12,
   "metadata": {
    "colab": {
     "base_uri": "https://localhost:8080/"
    },
    "id": "iuO2Z7EPfiK9",
    "outputId": "3c67869e-eb46-469c-d9f9-fa0c76ba4968",
    "tags": []
   },
   "outputs": [
    {
     "name": "stdout",
     "output_type": "stream",
     "text": [
      "Test Loss: 1.1315982566578777\n"
     ]
    }
   ],
   "source": [
    "def evaluate_model(model, test_loader, criterion):\n",
    "    model.eval()\n",
    "    test_loss = 0\n",
    "    all_predictions = []\n",
    "    all_actuals = []\n",
    "\n",
    "    with torch.no_grad():\n",
    "        for user_batch, item_batch, rating_batch in test_loader:\n",
    "            user_batch, item_batch, rating_batch = user_batch.to(device), item_batch.to(device), rating_batch.to(device)\n",
    "            output = model(user_batch, item_batch).squeeze()\n",
    "            loss = criterion(output, rating_batch)\n",
    "            test_loss += loss.item()\n",
    "            all_predictions.extend(output.cpu().numpy())\n",
    "            all_actuals.extend(rating_batch.cpu().numpy())\n",
    "\n",
    "    avg_test_loss = test_loss / len(test_loader)\n",
    "    print(f\"Test Loss: {avg_test_loss}\")\n",
    "    return avg_test_loss, all_predictions, all_actuals\n",
    "\n",
    "# Evaluate the model before saving\n",
    "avg_test_loss, predictions, actuals = evaluate_model(model, test_loader, criterion)"
   ]
  },
  {
   "cell_type": "code",
   "execution_count": 13,
   "metadata": {
    "tags": []
   },
   "outputs": [
    {
     "data": {
      "image/png": "[encoded data removed]",
      "text/plain": [
       "<Figure size 1000x600 with 1 Axes>"
      ]
     },
     "metadata": {},
     "output_type": "display_data"
    }
   ],
   "source": [
    "# Plot the test loss\n",
    "\n",
    "plt.figure(figsize=(10, 6))\n",
    "plt.plot(range(len(train_losses['train_loss'])), train_losses['train_loss'], label='Train Loss')\n",
    "plt.axhline(y=avg_test_loss, color='r', linestyle='--', label='Test Loss')\n",
    "plt.xlabel('Epoch')\n",
    "plt.ylabel('Loss')\n",
    "plt.title('Training and Test Loss')\n",
    "plt.legend()\n",
    "plt.show()"
   ]
  },
  {
   "cell_type": "code",
   "execution_count": 14,
   "metadata": {
    "tags": []
   },
   "outputs": [
    {
     "data": {
      "image/png": "[encoded data removed]",
      "text/plain": [
       "<Figure size 1000x600 with 1 Axes>"
      ]
     },
     "metadata": {},
     "output_type": "display_data"
    }
   ],
   "source": [
    "# Visualize Predictions vs Actual Ratings\n",
    "plt.figure(figsize=(10, 6))\n",
    "plt.scatter(actuals, predictions, alpha=0.5)\n",
    "plt.plot([min(actuals), max(actuals)], [min(actuals), max(actuals)], 'r--')  # Line for reference\n",
    "plt.xlabel('Actual Ratings')\n",
    "plt.ylabel('Predicted Ratings')\n",
    "plt.title('Predicted vs Actual Ratings')\n",
    "plt.show()"
   ]
  },
  {
   "cell_type": "code",
   "execution_count": 17,
   "metadata": {
    "tags": []
   },
   "outputs": [],
   "source": [
    "# Convert Model Parameters to Half-Precision\n",
    "model.half()\n",
    "for layer in model.modules():\n",
    "    if isinstance(layer, nn.BatchNorm1d):\n",
    "        layer.float()\n",
    "\n",
    "# Save the final model\n",
    "torch.save(model.state_dict(), 'final_model_state_dict.pth')"
   ]
  },
  {
   "cell_type": "code",
   "execution_count": 24,
   "metadata": {
    "tags": []
   },
   "outputs": [
    {
     "name": "stdout",
     "output_type": "stream",
     "text": [
      "Model has been successfully exported to model.onnx\n"
     ]
    }
   ],
   "source": [
    "# Define dummy input based on your model's expected input and move to the same device\n",
    "dummy_user = torch.tensor([0], dtype=torch.int64).to(device)\n",
    "dummy_item = torch.tensor([0], dtype=torch.int64).to(device)\n",
    "\n",
    "# Path where the ONNX model will be saved\n",
    "onnx_model_path = 'model.onnx'\n",
    "\n",
    "# Export the model\n",
    "torch.onnx.export(\n",
    "    model,                           # The model to be exported\n",
    "    (dummy_user, dummy_item),        # Dummy input to trace the model\n",
    "    onnx_model_path,                 # Path to save the ONNX model\n",
    "    input_names=['user', 'item'],    # Input names for the model\n",
    "    output_names=['rating'],         # Output name for the model\n",
    "    opset_version=11                 # ONNX version to export (adjust if necessary)\n",
    ")\n",
    "\n",
    "print(f\"Model has been successfully exported to {onnx_model_path}\")\n"
   ]
  },
  {
   "cell_type": "markdown",
   "metadata": {
    "tags": []
   },
   "source": [
    "## Using the Model "
   ]
  },
  {
   "cell_type": "markdown",
   "metadata": {
    "tags": []
   },
   "source": [
    "#### recommend movies for a given user ID:"
   ]
  },
  {
   "cell_type": "code",
   "execution_count": 54,
   "metadata": {
    "tags": []
   },
   "outputs": [
    {
     "name": "stdout",
     "output_type": "stream",
     "text": [
      "User ID 28469 is out of range and will be skipped.\n",
      "No recommendations available for the given user.\n"
     ]
    }
   ],
   "source": [
    "\n",
    "# Function to validate movie IDs\n",
    "def validate_movie_ids(movie_ids, movie_id_mapping):\n",
    "    valid_movie_ids = [movie_id for movie_id in movie_ids if movie_id in movie_id_mapping]\n",
    "    if len(valid_movie_ids) != len(movie_ids):\n",
    "        print(\"Some movie IDs are out of range and have been excluded from the recommendations.\")\n",
    "    return valid_movie_ids\n",
    "\n",
    "# Function to recommend movies\n",
    "def recommend_movies(user_id, top_n=10):\n",
    "    model.eval()  # Set model to evaluation mode\n",
    "    \n",
    "    user_idx = user_id_mapping.get(user_id, None)\n",
    "    if user_idx is None:\n",
    "        print(f\"User ID {user_id} is out of range and will be skipped.\")\n",
    "        return []\n",
    "\n",
    "    all_movie_indices = list(movie_id_mapping.values())\n",
    "    user = torch.tensor([user_idx] * len(all_movie_indices), device=device)\n",
    "    movies = torch.tensor(all_movie_indices, device=device)\n",
    "\n",
    "    with torch.no_grad():\n",
    "        predicted_ratings = model(user, movies).squeeze()\n",
    "        if predicted_ratings.dim() == 0:  # Handle the case where the result is a single value\n",
    "            predicted_ratings = predicted_ratings.unsqueeze(0)\n",
    "\n",
    "    top_movie_indices = predicted_ratings.argsort(descending=True)[:top_n]\n",
    "    recommended_movie_ids = [list(movie_id_mapping.keys())[i] for i in top_movie_indices]\n",
    "    recommended_ratings = predicted_ratings[top_movie_indices].tolist()\n",
    "    \n",
    "    return list(zip(recommended_movie_ids, recommended_ratings))\n",
    "\n",
    "# Example usage for recommendations\n",
    "user_id_example = 28468  # Replace with the user ID you want to get recommendations for\n",
    "top_n_example = 10  # Number of top recommendations to fetch\n",
    "recommended_movies = recommend_movies(user_id_example, top_n=top_n_example)\n",
    "\n",
    "# Ensure 'movies' DataFrame has a column 'title'\n",
    "if recommended_movies:\n",
    "    for movie_id, rating in recommended_movies:\n",
    "        movie_title = movies.loc[movies['movieId'] == movie_id, 'title'].values[0]\n",
    "        print(f\"Movie: {movie_title}, Estimated Rating: {rating:.2f}\")\n",
    "else:\n",
    "    print(\"No recommendations available for the given user.\")\n"
   ]
  },
  {
   "cell_type": "code",
   "execution_count": null,
   "metadata": {},
   "outputs": [],
   "source": []
  },
  {
   "cell_type": "code",
   "execution_count": 74,
   "metadata": {
    "tags": []
   },
   "outputs": [
    {
     "ename": "RuntimeError",
     "evalue": "Expected all tensors to be on the same device, but found at least two devices, cuda:0 and cpu! (when checking argument for argument index in method wrapper_CUDA__index_select)",
     "output_type": "error",
     "traceback": [
      "\u001b[0;31m---------------------------------------------------------------------------\u001b[0m",
      "\u001b[0;31mRuntimeError\u001b[0m                              Traceback (most recent call last)",
      "Cell \u001b[0;32mIn[74], line 80\u001b[0m\n\u001b[1;32m     78\u001b[0m \u001b[38;5;66;03m# Get recommendations for the new user\u001b[39;00m\n\u001b[1;32m     79\u001b[0m top_n_example \u001b[38;5;241m=\u001b[39m \u001b[38;5;241m10\u001b[39m  \u001b[38;5;66;03m# Number of top recommendations to fetch\u001b[39;00m\n\u001b[0;32m---> 80\u001b[0m recommended_movies_new_user \u001b[38;5;241m=\u001b[39m \u001b[43mrecommend_movies_new_user\u001b[49m\u001b[43m(\u001b[49m\u001b[43mnew_user_id\u001b[49m\u001b[43m,\u001b[49m\u001b[43m \u001b[49m\u001b[43mtop_n\u001b[49m\u001b[38;5;241;43m=\u001b[39;49m\u001b[43mtop_n_example\u001b[49m\u001b[43m)\u001b[49m\n\u001b[1;32m     82\u001b[0m \u001b[38;5;66;03m# Ensure 'movies' DataFrame has a column 'title'\u001b[39;00m\n\u001b[1;32m     83\u001b[0m \u001b[38;5;28;01mif\u001b[39;00m recommended_movies_new_user:\n",
      "Cell \u001b[0;32mIn[74], line 58\u001b[0m, in \u001b[0;36mrecommend_movies_new_user\u001b[0;34m(user_id, top_n)\u001b[0m\n\u001b[1;32m     55\u001b[0m movies \u001b[38;5;241m=\u001b[39m torch\u001b[38;5;241m.\u001b[39mtensor(all_movie_indices, device\u001b[38;5;241m=\u001b[39muser_rating_matrix_tensor\u001b[38;5;241m.\u001b[39mdevice)\n\u001b[1;32m     57\u001b[0m \u001b[38;5;28;01mwith\u001b[39;00m torch\u001b[38;5;241m.\u001b[39mno_grad():\n\u001b[0;32m---> 58\u001b[0m     predicted_ratings \u001b[38;5;241m=\u001b[39m \u001b[43mmodel\u001b[49m\u001b[43m(\u001b[49m\u001b[43muser\u001b[49m\u001b[43m,\u001b[49m\u001b[43m \u001b[49m\u001b[43mmovies\u001b[49m\u001b[43m)\u001b[49m\u001b[38;5;241m.\u001b[39msqueeze()\n\u001b[1;32m     59\u001b[0m     \u001b[38;5;28;01mif\u001b[39;00m predicted_ratings\u001b[38;5;241m.\u001b[39mdim() \u001b[38;5;241m==\u001b[39m \u001b[38;5;241m0\u001b[39m:  \u001b[38;5;66;03m# Handle the case where the result is a single value\u001b[39;00m\n\u001b[1;32m     60\u001b[0m         predicted_ratings \u001b[38;5;241m=\u001b[39m predicted_ratings\u001b[38;5;241m.\u001b[39munsqueeze(\u001b[38;5;241m0\u001b[39m)\n",
      "File \u001b[0;32m/usr/local/lib/python3.11/dist-packages/torch/nn/modules/module.py:1518\u001b[0m, in \u001b[0;36mModule._wrapped_call_impl\u001b[0;34m(self, *args, **kwargs)\u001b[0m\n\u001b[1;32m   1516\u001b[0m     \u001b[38;5;28;01mreturn\u001b[39;00m \u001b[38;5;28mself\u001b[39m\u001b[38;5;241m.\u001b[39m_compiled_call_impl(\u001b[38;5;241m*\u001b[39margs, \u001b[38;5;241m*\u001b[39m\u001b[38;5;241m*\u001b[39mkwargs)  \u001b[38;5;66;03m# type: ignore[misc]\u001b[39;00m\n\u001b[1;32m   1517\u001b[0m \u001b[38;5;28;01melse\u001b[39;00m:\n\u001b[0;32m-> 1518\u001b[0m     \u001b[38;5;28;01mreturn\u001b[39;00m \u001b[38;5;28;43mself\u001b[39;49m\u001b[38;5;241;43m.\u001b[39;49m\u001b[43m_call_impl\u001b[49m\u001b[43m(\u001b[49m\u001b[38;5;241;43m*\u001b[39;49m\u001b[43margs\u001b[49m\u001b[43m,\u001b[49m\u001b[43m \u001b[49m\u001b[38;5;241;43m*\u001b[39;49m\u001b[38;5;241;43m*\u001b[39;49m\u001b[43mkwargs\u001b[49m\u001b[43m)\u001b[49m\n",
      "File \u001b[0;32m/usr/local/lib/python3.11/dist-packages/torch/nn/modules/module.py:1527\u001b[0m, in \u001b[0;36mModule._call_impl\u001b[0;34m(self, *args, **kwargs)\u001b[0m\n\u001b[1;32m   1522\u001b[0m \u001b[38;5;66;03m# If we don't have any hooks, we want to skip the rest of the logic in\u001b[39;00m\n\u001b[1;32m   1523\u001b[0m \u001b[38;5;66;03m# this function, and just call forward.\u001b[39;00m\n\u001b[1;32m   1524\u001b[0m \u001b[38;5;28;01mif\u001b[39;00m \u001b[38;5;129;01mnot\u001b[39;00m (\u001b[38;5;28mself\u001b[39m\u001b[38;5;241m.\u001b[39m_backward_hooks \u001b[38;5;129;01mor\u001b[39;00m \u001b[38;5;28mself\u001b[39m\u001b[38;5;241m.\u001b[39m_backward_pre_hooks \u001b[38;5;129;01mor\u001b[39;00m \u001b[38;5;28mself\u001b[39m\u001b[38;5;241m.\u001b[39m_forward_hooks \u001b[38;5;129;01mor\u001b[39;00m \u001b[38;5;28mself\u001b[39m\u001b[38;5;241m.\u001b[39m_forward_pre_hooks\n\u001b[1;32m   1525\u001b[0m         \u001b[38;5;129;01mor\u001b[39;00m _global_backward_pre_hooks \u001b[38;5;129;01mor\u001b[39;00m _global_backward_hooks\n\u001b[1;32m   1526\u001b[0m         \u001b[38;5;129;01mor\u001b[39;00m _global_forward_hooks \u001b[38;5;129;01mor\u001b[39;00m _global_forward_pre_hooks):\n\u001b[0;32m-> 1527\u001b[0m     \u001b[38;5;28;01mreturn\u001b[39;00m \u001b[43mforward_call\u001b[49m\u001b[43m(\u001b[49m\u001b[38;5;241;43m*\u001b[39;49m\u001b[43margs\u001b[49m\u001b[43m,\u001b[49m\u001b[43m \u001b[49m\u001b[38;5;241;43m*\u001b[39;49m\u001b[38;5;241;43m*\u001b[39;49m\u001b[43mkwargs\u001b[49m\u001b[43m)\u001b[49m\n\u001b[1;32m   1529\u001b[0m \u001b[38;5;28;01mtry\u001b[39;00m:\n\u001b[1;32m   1530\u001b[0m     result \u001b[38;5;241m=\u001b[39m \u001b[38;5;28;01mNone\u001b[39;00m\n",
      "Cell \u001b[0;32mIn[8], line 21\u001b[0m, in \u001b[0;36mMFRecommender.forward\u001b[0;34m(self, user, item)\u001b[0m\n\u001b[1;32m     19\u001b[0m \u001b[38;5;28;01mdef\u001b[39;00m \u001b[38;5;21mforward\u001b[39m(\u001b[38;5;28mself\u001b[39m, user, item):\n\u001b[1;32m     20\u001b[0m     \u001b[38;5;66;03m# Get embeddings\u001b[39;00m\n\u001b[0;32m---> 21\u001b[0m     user_emb \u001b[38;5;241m=\u001b[39m \u001b[38;5;28;43mself\u001b[39;49m\u001b[38;5;241;43m.\u001b[39;49m\u001b[43muser_embedding\u001b[49m\u001b[43m(\u001b[49m\u001b[43muser\u001b[49m\u001b[43m)\u001b[49m\n\u001b[1;32m     22\u001b[0m     item_emb \u001b[38;5;241m=\u001b[39m \u001b[38;5;28mself\u001b[39m\u001b[38;5;241m.\u001b[39mitem_embedding(item)\n\u001b[1;32m     24\u001b[0m     \u001b[38;5;66;03m# Element-wise multiplication of user and item embeddings        \u001b[39;00m\n",
      "File \u001b[0;32m/usr/local/lib/python3.11/dist-packages/torch/nn/modules/module.py:1518\u001b[0m, in \u001b[0;36mModule._wrapped_call_impl\u001b[0;34m(self, *args, **kwargs)\u001b[0m\n\u001b[1;32m   1516\u001b[0m     \u001b[38;5;28;01mreturn\u001b[39;00m \u001b[38;5;28mself\u001b[39m\u001b[38;5;241m.\u001b[39m_compiled_call_impl(\u001b[38;5;241m*\u001b[39margs, \u001b[38;5;241m*\u001b[39m\u001b[38;5;241m*\u001b[39mkwargs)  \u001b[38;5;66;03m# type: ignore[misc]\u001b[39;00m\n\u001b[1;32m   1517\u001b[0m \u001b[38;5;28;01melse\u001b[39;00m:\n\u001b[0;32m-> 1518\u001b[0m     \u001b[38;5;28;01mreturn\u001b[39;00m \u001b[38;5;28;43mself\u001b[39;49m\u001b[38;5;241;43m.\u001b[39;49m\u001b[43m_call_impl\u001b[49m\u001b[43m(\u001b[49m\u001b[38;5;241;43m*\u001b[39;49m\u001b[43margs\u001b[49m\u001b[43m,\u001b[49m\u001b[43m \u001b[49m\u001b[38;5;241;43m*\u001b[39;49m\u001b[38;5;241;43m*\u001b[39;49m\u001b[43mkwargs\u001b[49m\u001b[43m)\u001b[49m\n",
      "File \u001b[0;32m/usr/local/lib/python3.11/dist-packages/torch/nn/modules/module.py:1527\u001b[0m, in \u001b[0;36mModule._call_impl\u001b[0;34m(self, *args, **kwargs)\u001b[0m\n\u001b[1;32m   1522\u001b[0m \u001b[38;5;66;03m# If we don't have any hooks, we want to skip the rest of the logic in\u001b[39;00m\n\u001b[1;32m   1523\u001b[0m \u001b[38;5;66;03m# this function, and just call forward.\u001b[39;00m\n\u001b[1;32m   1524\u001b[0m \u001b[38;5;28;01mif\u001b[39;00m \u001b[38;5;129;01mnot\u001b[39;00m (\u001b[38;5;28mself\u001b[39m\u001b[38;5;241m.\u001b[39m_backward_hooks \u001b[38;5;129;01mor\u001b[39;00m \u001b[38;5;28mself\u001b[39m\u001b[38;5;241m.\u001b[39m_backward_pre_hooks \u001b[38;5;129;01mor\u001b[39;00m \u001b[38;5;28mself\u001b[39m\u001b[38;5;241m.\u001b[39m_forward_hooks \u001b[38;5;129;01mor\u001b[39;00m \u001b[38;5;28mself\u001b[39m\u001b[38;5;241m.\u001b[39m_forward_pre_hooks\n\u001b[1;32m   1525\u001b[0m         \u001b[38;5;129;01mor\u001b[39;00m _global_backward_pre_hooks \u001b[38;5;129;01mor\u001b[39;00m _global_backward_hooks\n\u001b[1;32m   1526\u001b[0m         \u001b[38;5;129;01mor\u001b[39;00m _global_forward_hooks \u001b[38;5;129;01mor\u001b[39;00m _global_forward_pre_hooks):\n\u001b[0;32m-> 1527\u001b[0m     \u001b[38;5;28;01mreturn\u001b[39;00m \u001b[43mforward_call\u001b[49m\u001b[43m(\u001b[49m\u001b[38;5;241;43m*\u001b[39;49m\u001b[43margs\u001b[49m\u001b[43m,\u001b[49m\u001b[43m \u001b[49m\u001b[38;5;241;43m*\u001b[39;49m\u001b[38;5;241;43m*\u001b[39;49m\u001b[43mkwargs\u001b[49m\u001b[43m)\u001b[49m\n\u001b[1;32m   1529\u001b[0m \u001b[38;5;28;01mtry\u001b[39;00m:\n\u001b[1;32m   1530\u001b[0m     result \u001b[38;5;241m=\u001b[39m \u001b[38;5;28;01mNone\u001b[39;00m\n",
      "File \u001b[0;32m/usr/local/lib/python3.11/dist-packages/torch/nn/modules/sparse.py:162\u001b[0m, in \u001b[0;36mEmbedding.forward\u001b[0;34m(self, input)\u001b[0m\n\u001b[1;32m    161\u001b[0m \u001b[38;5;28;01mdef\u001b[39;00m \u001b[38;5;21mforward\u001b[39m(\u001b[38;5;28mself\u001b[39m, \u001b[38;5;28minput\u001b[39m: Tensor) \u001b[38;5;241m-\u001b[39m\u001b[38;5;241m>\u001b[39m Tensor:\n\u001b[0;32m--> 162\u001b[0m     \u001b[38;5;28;01mreturn\u001b[39;00m \u001b[43mF\u001b[49m\u001b[38;5;241;43m.\u001b[39;49m\u001b[43membedding\u001b[49m\u001b[43m(\u001b[49m\n\u001b[1;32m    163\u001b[0m \u001b[43m        \u001b[49m\u001b[38;5;28;43minput\u001b[39;49m\u001b[43m,\u001b[49m\u001b[43m \u001b[49m\u001b[38;5;28;43mself\u001b[39;49m\u001b[38;5;241;43m.\u001b[39;49m\u001b[43mweight\u001b[49m\u001b[43m,\u001b[49m\u001b[43m \u001b[49m\u001b[38;5;28;43mself\u001b[39;49m\u001b[38;5;241;43m.\u001b[39;49m\u001b[43mpadding_idx\u001b[49m\u001b[43m,\u001b[49m\u001b[43m \u001b[49m\u001b[38;5;28;43mself\u001b[39;49m\u001b[38;5;241;43m.\u001b[39;49m\u001b[43mmax_norm\u001b[49m\u001b[43m,\u001b[49m\n\u001b[1;32m    164\u001b[0m \u001b[43m        \u001b[49m\u001b[38;5;28;43mself\u001b[39;49m\u001b[38;5;241;43m.\u001b[39;49m\u001b[43mnorm_type\u001b[49m\u001b[43m,\u001b[49m\u001b[43m \u001b[49m\u001b[38;5;28;43mself\u001b[39;49m\u001b[38;5;241;43m.\u001b[39;49m\u001b[43mscale_grad_by_freq\u001b[49m\u001b[43m,\u001b[49m\u001b[43m \u001b[49m\u001b[38;5;28;43mself\u001b[39;49m\u001b[38;5;241;43m.\u001b[39;49m\u001b[43msparse\u001b[49m\u001b[43m)\u001b[49m\n",
      "File \u001b[0;32m/usr/local/lib/python3.11/dist-packages/torch/nn/functional.py:2233\u001b[0m, in \u001b[0;36membedding\u001b[0;34m(input, weight, padding_idx, max_norm, norm_type, scale_grad_by_freq, sparse)\u001b[0m\n\u001b[1;32m   2227\u001b[0m     \u001b[38;5;66;03m# Note [embedding_renorm set_grad_enabled]\u001b[39;00m\n\u001b[1;32m   2228\u001b[0m     \u001b[38;5;66;03m# XXX: equivalent to\u001b[39;00m\n\u001b[1;32m   2229\u001b[0m     \u001b[38;5;66;03m# with torch.no_grad():\u001b[39;00m\n\u001b[1;32m   2230\u001b[0m     \u001b[38;5;66;03m#   torch.embedding_renorm_\u001b[39;00m\n\u001b[1;32m   2231\u001b[0m     \u001b[38;5;66;03m# remove once script supports set_grad_enabled\u001b[39;00m\n\u001b[1;32m   2232\u001b[0m     _no_grad_embedding_renorm_(weight, \u001b[38;5;28minput\u001b[39m, max_norm, norm_type)\n\u001b[0;32m-> 2233\u001b[0m \u001b[38;5;28;01mreturn\u001b[39;00m \u001b[43mtorch\u001b[49m\u001b[38;5;241;43m.\u001b[39;49m\u001b[43membedding\u001b[49m\u001b[43m(\u001b[49m\u001b[43mweight\u001b[49m\u001b[43m,\u001b[49m\u001b[43m \u001b[49m\u001b[38;5;28;43minput\u001b[39;49m\u001b[43m,\u001b[49m\u001b[43m \u001b[49m\u001b[43mpadding_idx\u001b[49m\u001b[43m,\u001b[49m\u001b[43m \u001b[49m\u001b[43mscale_grad_by_freq\u001b[49m\u001b[43m,\u001b[49m\u001b[43m \u001b[49m\u001b[43msparse\u001b[49m\u001b[43m)\u001b[49m\n",
      "\u001b[0;31mRuntimeError\u001b[0m: Expected all tensors to be on the same device, but found at least two devices, cuda:0 and cpu! (when checking argument for argument index in method wrapper_CUDA__index_select)"
     ]
    }
   ],
   "source": []
  },
  {
   "cell_type": "code",
   "execution_count": null,
   "metadata": {},
   "outputs": [],
   "source": []
  }
 ],
 "metadata": {
  "colab": {
   "provenance": []
  },
  "kernelspec": {
   "display_name": "Python 3 (ipykernel)",
   "language": "python",
   "name": "python3"
  },
  "language_info": {
   "codemirror_mode": {
    "name": "ipython",
    "version": 3
   },
   "file_extension": ".py",
   "mimetype": "text/x-python",
   "name": "python",
   "nbconvert_exporter": "python",
   "pygments_lexer": "ipython3",
   "version": "3.11.7"
  }
 },
 "nbformat": 4,
 "nbformat_minor": 4
}
